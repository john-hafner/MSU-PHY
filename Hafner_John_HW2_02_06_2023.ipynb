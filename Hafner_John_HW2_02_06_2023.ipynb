{
  "nbformat": 4,
  "nbformat_minor": 0,
  "metadata": {
    "colab": {
      "provenance": [],
      "authorship_tag": "ABX9TyMSop6JKSSRG/aNcvKvzO/F",
      "include_colab_link": true
    },
    "kernelspec": {
      "name": "python3",
      "display_name": "Python 3"
    },
    "language_info": {
      "name": "python"
    }
  },
  "cells": [
    {
      "cell_type": "markdown",
      "metadata": {
        "id": "view-in-github",
        "colab_type": "text"
      },
      "source": [
        "<a href=\"https://colab.research.google.com/github/john-hafner/MSU-PHY/blob/main/Hafner_John_HW2_02_06_2023.ipynb\" target=\"_parent\"><img src=\"https://colab.research.google.com/assets/colab-badge.svg\" alt=\"Open In Colab\"/></a>"
      ]
    },
    {
      "cell_type": "code",
      "source": [
        "import numpy as np\n",
        "import pandas as pd\n",
        "import matplotlib.pyplot as plt\n",
        "import seaborn as sns"
      ],
      "metadata": {
        "id": "Cx1_1gynLWHb"
      },
      "execution_count": 2,
      "outputs": []
    },
    {
      "cell_type": "markdown",
      "source": [
        "# \\#1 Lecture 7-10\n",
        "\n",
        "(a) In the Penning trap, ions are confined only using a magnetic field.\n",
        "- No, there is also a weak electrostatic field that helps to confine the ion on the z-axis, while the magnetic field traps the ions in the other two dimensions. \n",
        "  - *(Lec 7, slide 6)*\n",
        "\n",
        "(b) The most unstable isobar has the lightest mass among other isobars.\n",
        "- No, isobars have approximately the same mass, that's their definition.  The most stable isobar is generally the lightest, because it has the highest binding energy, which results in it being a bit lighter.\n",
        "\n",
        "(c) Beta-decay lifetime of a nucleus (the ground state of the nucleus) has a single value irrespective of its decay branches.\n",
        "- True, it has no \"*memory*\" of how it's gotten to its current state.\n",
        "\n",
        "(d) In the liquid drop model, conditions for spontaneous fission are related to nuclear deformation effects and given by the competition between the volume and surface terms in the semi-empiracal mass formula.\n",
        "- No.  It's partly due to the surface term, but also the Coulomb term.  The volume term helps keep a nucleus together, whereas the surface & Coulomb term contribute to breaking it apart.  \n",
        "  - *(L10 pre-lecture, slide 4)*\n",
        "\n",
        "(e) In scattering experiements at relatvistic energies, most of the particles will be emitted in very forward angles because of Lorentz boost (Lorentz transformation from the center-of-mass frame to the laboratory frame).\n",
        "\n",
        "- False, velocity, or more directly - momentum matters most.  A high momentum particle will push most of the scattered target particles in forward angles.  So it needs relativistic speeds, and to have a momentum, or rest mass larger than the target.\n",
        "\n",
        "---\n",
        "---"
      ],
      "metadata": {
        "id": "feNe4gKMAt9S"
      }
    },
    {
      "cell_type": "markdown",
      "source": [
        "# \\# 2 (Lecture 8, slide 10)\n",
        "\n",
        "The bottom figures show a comparison between the 52 MeV deuteron elastic scattering data on $^{48}Ti$ (left) and the Fraunhofer-like diffraction form $(\\frac{J_1(qR)}{qR})^2$ (right).  We can see that the third minimum of the data at 40 degrees (left) corresponds to the diffraction pattern at qr=7 [$\\hbar$] (right).  Deduce the radius of $^{48}Ti$ from this relation, and compare the result with a simple radius formula $1.2 \\times A^{\\frac{1}{3}}$ fm.  Assume the mass of deuteron of 1876 $\\frac{MeV}{c^2}$ and use the relation $q = 2p \\ sin(\\frac{\\theta}{2})$ (p: deuteron momentum $\\frac{MeV}{c^2}$, $\\theta$: scattering angle (deg)).\n",
        "\n",
        "\n",
        "\n",
        "\n"
      ],
      "metadata": {
        "id": "08pwoQcABR83"
      }
    },
    {
      "cell_type": "code",
      "source": [
        "T = 52 # MeV\n",
        "\n",
        "# Computing the rest energy\n",
        "m = 22 * 938.3 + (48 - 22) * 939.6\n",
        "\n",
        "# Deuteron mass\n",
        "m_de = 1876 # MeV/c^2\n",
        "\n",
        "E_de = m_de + T\n",
        "# Solving for momentum\n",
        "p_de = np.sqrt(E_de**2 - m_de**2)\n",
        "print(f'p: {round(p_de, 2)} MeV')\n"
      ],
      "metadata": {
        "colab": {
          "base_uri": "https://localhost:8080/"
        },
        "id": "Gpj4I-o_rMKA",
        "outputId": "c9f188ae-d0bf-458d-f9e3-98daec036986"
      },
      "execution_count": 145,
      "outputs": [
        {
          "output_type": "stream",
          "name": "stdout",
          "text": [
            "p: 444.76 MeV\n"
          ]
        }
      ]
    },
    {
      "cell_type": "markdown",
      "source": [
        "So momentum is around 445 MeV/c"
      ],
      "metadata": {
        "id": "CIOk0uWoy2tp"
      }
    },
    {
      "cell_type": "code",
      "source": [
        "theta = 40 * np.pi/180 # from the graph\n",
        "q = 2 * p_de * np.sin(theta / 2)\n",
        "print('q:', q)\n",
        "\n",
        "hbar = 197 # MeV fm\n",
        "R = 7*hbar/q\n",
        "print(f'Radius: {R} fm')\n",
        "\n",
        "R_approx = 1.2 * 48**(1/3)\n",
        "print(f'Approximate Radius: {R_approx} fm')\n",
        "R_approx / R"
      ],
      "metadata": {
        "colab": {
          "base_uri": "https://localhost:8080/"
        },
        "id": "s3Qs7m68zLJT",
        "outputId": "24f654fa-2840-4b6f-bdfd-8c7284dba92d"
      },
      "execution_count": 146,
      "outputs": [
        {
          "output_type": "stream",
          "name": "stdout",
          "text": [
            "q: 304.2310989873362\n",
            "Radius: 4.532738449784194 fm\n",
            "Approximate Radius: 4.361089422797135 fm\n"
          ]
        },
        {
          "output_type": "execute_result",
          "data": {
            "text/plain": [
              "0.9621312747495432"
            ]
          },
          "metadata": {},
          "execution_count": 146
        }
      ]
    },
    {
      "cell_type": "markdown",
      "source": [
        "So the approximate formula is very close in this case, within about 5% of the more complicated formula."
      ],
      "metadata": {
        "id": "SxtkgU5V1Wbh"
      }
    },
    {
      "cell_type": "markdown",
      "source": [
        "---\n",
        "---\n",
        "\n",
        "# \\#3 (1pt+2pt+1pt+2pt+2pt) - (Lecture 9, slides 7, 13)\n",
        "A relic from an Egyptian tomb contains 1 mol (about 12g) of carbon with a \n",
        "measured activity of $4 \\times 10^{-12}$ Ci (1Ci = $3.7 \\times 10^{10}$ Bq, Bq = 1 $\\frac{decay}{second}$) \n",
        "for the radioactive decay of $^{14}$C. By following the procedures given below, \n",
        "determine how old the relic is. Assume the ratio of $\\frac{^{14}C}{^{12}C}$ nuclei in a live \n",
        "tree is $1.3 \\times 10^{-12}$\n",
        ", and the half-life ($\\tau_{\\frac{1}{2}}$) of $^{14}$C is 5420 years. \n",
        "\n",
        "\n",
        "- (a) Convert the unit of the measured activity of the $^{14}$C decay to \n",
        "decay/second.\n",
        "---\n",
        "\n"
      ],
      "metadata": {
        "id": "28Z5SIA_-IDk"
      }
    },
    {
      "cell_type": "code",
      "source": [
        "mol = 6.022e23 # avogadro's number\n",
        "m = 1.0 * mol # mol\n",
        "c_ratio = 1.3e-12 # of a live tree, or anything 'alive'.\n",
        "A = 4e-12 # activity in Ci\n",
        "tau_c14 = 5420\n",
        "\n",
        "# Compute lambda, in 1/s, not 1/year\n",
        "lam = np.log(2) / tau_c14 * 1/365 * 1/86400\n",
        "print(f'lambda: {round(lam, 3)} Hz')\n",
        "\n",
        "A_age = A * 3.7e10 # converting to Bq\n",
        "print('Activity: %.3f decays/second' % (A_age))"
      ],
      "metadata": {
        "colab": {
          "base_uri": "https://localhost:8080/"
        },
        "id": "iQZfOZ0-KK6X",
        "outputId": "b01b7f59-1e58-4f3f-c90d-28cf684441c2"
      },
      "execution_count": 49,
      "outputs": [
        {
          "output_type": "stream",
          "name": "stdout",
          "text": [
            "lambda: 0.0 Hz\n",
            "Activity: 0.148 decays/second\n"
          ]
        }
      ]
    },
    {
      "cell_type": "markdown",
      "source": [
        "---\n",
        "- (b) The number of unstable $^{14}$C nuclei in the relic follows the exponential \n",
        "decay curve $N(t) = N(0) e^{\\frac{-tln2}{\\tau_{\\frac{1}{2}}}}$. Calculate the activity A(t) (intensity of decays as a function of time t) using the function N(t). "
      ],
      "metadata": {
        "id": "Mo28wJ-5J7TZ"
      }
    },
    {
      "cell_type": "code",
      "source": [
        "tau = 5420 # years, half life\n",
        "N_0 = 6.022e23 # Initial number of atoms, one mol worth (Avogadro's number)\n",
        "\n",
        "# Convert tau from years into seconds?  Or go with years?\n",
        "# Probably just have to clearly label the axis\n",
        "\n",
        "def decay_rate(t, N_0=mol, tau=tau_c12):\n",
        "  N = N_0 * np.e**(-t * np.log(2) / tau)\n",
        "  return N\n",
        "t = np.linspace(1, 50000) \n",
        "N = decay_rate(t, N_0=1)\n",
        "\n",
        "\n",
        "plt.figure(figsize=(7,7))\n",
        "plt.title('Decay of $^{14}$C over time')\n",
        "plt.plot(t, N)\n",
        "\n",
        "# Plot where half the nuclei should be decayed\n",
        "t1 = tau\n",
        "n1 = 1 / 2.0\n",
        "plt.axhline(y=n1, color='red', linestyle='--')\n",
        "plt.axvline(x=t1, color='red', linestyle='--')\n",
        "\n",
        "plt.xlabel('Time (years)')\n",
        "plt.ylabel('% of Nuclei Left')\n",
        "plt.show()"
      ],
      "metadata": {
        "colab": {
          "base_uri": "https://localhost:8080/",
          "height": 462
        },
        "id": "AgvDFSp6KILI",
        "outputId": "5f92856e-7610-4345-d983-1a70afc4aa30"
      },
      "execution_count": 50,
      "outputs": [
        {
          "output_type": "display_data",
          "data": {
            "text/plain": [
              "<Figure size 504x504 with 1 Axes>"
            ],
            "image/png": "[encoded data removed]"
          },
          "metadata": {
            "needs_background": "light"
          }
        }
      ]
    },
    {
      "cell_type": "markdown",
      "source": [
        "- (c) Calculate the number N(0) of $^{14}C$, when the relic was buried in the tomb. \n",
        "Assume the $\\frac{^{14}C}{^{12}C}$ ratio was the same as that of a live tree at present.\n",
        "Avogardo’s number is $6.0 × 10^{23}\\frac{1}{mol}$. \n"
      ],
      "metadata": {
        "id": "qAuUifnHJ8IM"
      }
    },
    {
      "cell_type": "code",
      "source": [
        "N_age = A_age / lam\n",
        "print(f'Number of nuclei today: {round(N_age, 1)}')\n",
        "\n",
        "N_0 = 1.3e-12 * (6.022e23 - N_age) # subtracting that doesn't matter.\n",
        "print(f'There was originally {N_0} atoms of C14 at time 0')"
      ],
      "metadata": {
        "colab": {
          "base_uri": "https://localhost:8080/"
        },
        "id": "zg1bwKL438dp",
        "outputId": "9b8470f5-d7f9-4f9c-b6b1-c7bb12ebf87b"
      },
      "execution_count": 51,
      "outputs": [
        {
          "output_type": "stream",
          "name": "stdout",
          "text": [
            "Number of nuclei today: 36495737802.1\n",
            "There was originally 782859999999.9525 atoms of C14 at time 0\n"
          ]
        }
      ]
    },
    {
      "cell_type": "markdown",
      "source": [
        "Using $A = \\lambda N_0 $, we solve for $N_0$"
      ],
      "metadata": {
        "id": "hr8BOgimUprP"
      }
    },
    {
      "cell_type": "markdown",
      "source": [
        "- (d) Calculate the activity A(0) of the $^{14}C$ decay.\n"
      ],
      "metadata": {
        "id": "jLHVc4yJMtIw"
      }
    },
    {
      "cell_type": "code",
      "source": [
        "A_0 = lam * N_0\n",
        "# I got a huge number, and realized my lambda is in units of 1/year, not 1/sec so I have to convert to get Bq units\n",
        "#A_0 = A_0 * 1 / 365 * 1/86400\n",
        "print(f'The activity A(0) = {round(A_0, 3)} Bq')"
      ],
      "metadata": {
        "colab": {
          "base_uri": "https://localhost:8080/"
        },
        "id": "dmyLq53q9ska",
        "outputId": "9e1588eb-89c6-426e-c889-c4932ea7560b"
      },
      "execution_count": 52,
      "outputs": [
        {
          "output_type": "stream",
          "name": "stdout",
          "text": [
            "The activity A(0) = 3.175 Bq\n"
          ]
        }
      ]
    },
    {
      "cell_type": "markdown",
      "source": [
        "- (e) Determine the age Tage of the relic by considering the ratio $\\frac{A(Tage)}{A(0)}$. Note that $A(T_{age})$ is the value obtained in (a).\n",
        "\n"
      ],
      "metadata": {
        "id": "6h3ouDYSMvFt"
      }
    },
    {
      "cell_type": "markdown",
      "source": [
        "$$N(t) = N_0e^{-\\lambda t}$$\n",
        "Solving for $t$ and swapping $\\lambda$ for the half life gives:\n",
        "\n",
        "$$t = \\frac{\\tau_{\\frac{1}{2}}}{ln(2)} ln(\\frac{N(t)}{N_0})$$"
      ],
      "metadata": {
        "id": "wYvsExlDcYDj"
      }
    },
    {
      "cell_type": "code",
      "source": [
        "#A_age / A_0 * 86400\n",
        "age = -tau_c14 / np.log(2) * np.log(N_age / N_0)\n",
        "print(f'The artifact is {round(age, 1)} years old')"
      ],
      "metadata": {
        "colab": {
          "base_uri": "https://localhost:8080/"
        },
        "id": "VFvGNYex-gnB",
        "outputId": "c9e15b54-7ae5-4f32-dfd2-432bacf73e9d"
      },
      "execution_count": 70,
      "outputs": [
        {
          "output_type": "stream",
          "name": "stdout",
          "text": [
            "The artifact is 23972.4 years old\n"
          ]
        }
      ]
    },
    {
      "cell_type": "markdown",
      "source": [
        "### Seems a bit old, even for Egypt.\n",
        "\n",
        "So I might be off by a factor somewhere here."
      ],
      "metadata": {
        "id": "w_dkC7XXe9lw"
      }
    },
    {
      "cell_type": "markdown",
      "source": [
        "# \\#4 (4pt) - (Lecture 9, slide 9)\n",
        "$^{210}Bi$ (Z=83, mean life 7.2 days) decays by beta-particle emission to $^{210}$Po \n",
        "(Z=84, mean life 200 days), which in turn decays by alpha-particle emission \n",
        "to $^{206}$Pb (Z=82). If a source initially contains only pure $^{210}Bi$, after how long \n",
        "will the rate of alpha-particle emission reach a maximum? Use the\n",
        "following equation ( Eq.(2.67) in the text book ) for the sequential decay. \n",
        "\n",
        "$$N_B(t) = \\frac{\\lambda_A}{\\lambda_B - \\lambda_A} N_A(0)[e^{-\\lambda_At} - e^{-\\lambda_Bt}]$$\n",
        "\n",
        "---\n",
        "---"
      ],
      "metadata": {
        "id": "WK4XHtCw-bDW"
      }
    },
    {
      "cell_type": "code",
      "source": [
        "# For some \n",
        "\n",
        "# one mol worth\n",
        "N_Bi_0 = 1\n",
        "\n",
        "lambda_Bi = 1 / (7.2 )\n",
        "lambda_Po = 1 / (200.0 )\n",
        "\n",
        "# lambda_Bi = 1 / 10\n",
        "# lambda_Po = 1 / 200\n",
        "\n",
        "print(lambda_Bi)\n",
        "\n",
        "t = np.linspace(0, 100, 1000)\n",
        "N_Bi = N_Bi_0 * np.e**(- lambda_Bi * t)\n",
        "\n",
        "N_Po = N_Bi_0 * lambda_Bi / (lambda_Po - lambda_Bi) * (np.e**(-lambda_Bi*t) - np.e**(-lambda_Po*t))\n",
        "\n",
        "print(7.2 * np.log(2))\n",
        "\n",
        "plt.figure(figsize=(8,8))\n",
        "\n",
        "plt.axvline(x=24.8, linestyle='--', color='red') # Adding where the peak looks like\n",
        "plt.plot(t, N_Bi, label='Bi')\n",
        "plt.plot(t, N_Po, label='Po')\n",
        "\n",
        "plt.xlabel('Days')\n",
        "plt.ylabel('Amount of Isotope')\n",
        "plt.title('Decay Chain Populations')\n",
        "\n",
        "plt.legend()\n",
        "plt.show()"
      ],
      "metadata": {
        "colab": {
          "base_uri": "https://localhost:8080/",
          "height": 549
        },
        "id": "BH3uFP0v0SPB",
        "outputId": "643233f8-5bed-4c00-8880-5342dcc0d1be"
      },
      "execution_count": 109,
      "outputs": [
        {
          "output_type": "stream",
          "name": "stdout",
          "text": [
            "0.1388888888888889\n",
            "4.990659700031606\n"
          ]
        },
        {
          "output_type": "display_data",
          "data": {
            "text/plain": [
              "<Figure size 576x576 with 1 Axes>"
            ],
            "image/png": "[encoded data removed]"
          },
          "metadata": {
            "needs_background": "light"
          }
        }
      ]
    },
    {
      "cell_type": "markdown",
      "source": [
        "It looks like it's peaking somewhere around 25-30 days."
      ],
      "metadata": {
        "id": "0LHtcNeTldEg"
      }
    },
    {
      "cell_type": "code",
      "source": [
        "time_to_peak = np.log(lambda_Po / lambda_Bi) / (lambda_Po - lambda_Bi)\n",
        "print(f'Time to peak: {round(time_to_peak, 1)} days')"
      ],
      "metadata": {
        "colab": {
          "base_uri": "https://localhost:8080/"
        },
        "id": "lUenMd7qmrSN",
        "outputId": "babd4bb8-3f6b-4482-8d75-daa6b75b2fc5"
      },
      "execution_count": 108,
      "outputs": [
        {
          "output_type": "stream",
          "name": "stdout",
          "text": [
            "Time to peak: 24.8 days\n"
          ]
        }
      ]
    },
    {
      "cell_type": "markdown",
      "source": [
        "To derive that, I start with the provided formula:\n",
        "\n",
        "$$N_B(t) = \\frac{\\lambda_A}{\\lambda_B - \\lambda_A} N_A(0)[e^{-\\lambda_At} - e^{-\\lambda_Bt}]$$\n",
        "\n",
        "$$\\frac{d}{dt}N_B(t) = \\frac{d}{dt}\\left(\\frac{\\lambda_A}{\\lambda_B - \\lambda_A} N_A(0)[e^{-\\lambda_At} - e^{-\\lambda_Bt}]\\right)$$\n",
        "\n",
        "The only part the $\\frac{d}{dt}$ will impact is the exponentials as that's where the t-dependence is.  And when the derivative of that equals 0 is where the max will be, we won't have to worry about the rest because once those exponentials are 0 the whole equation for $N_B(t)$ becomes 0.\n",
        "\n",
        "$$\\frac{d}{dt}[e^{-\\lambda_At} - e^{-\\lambda_Bt}] = 0$$\n",
        "$$[- \\lambda_A e^{-\\lambda_At} + \\lambda_B e^{-\\lambda_Bt}] = 0$$\n",
        "$$\\lambda_A e^{-\\lambda_At} = \\lambda_B e^{-\\lambda_Bt} $$\n",
        "$$\\frac{e^{-\\lambda_At}}{e^{-\\lambda_Bt}} = \\frac{\\lambda_B}{\\lambda_A}  $$\n",
        "$$e^{(\\lambda_B -\\lambda_A)t} = \\frac{\\lambda_B}{\\lambda_A}  $$\n",
        "$$(\\lambda_B -\\lambda_A)t = ln\\left(\\frac{\\lambda_B}{\\lambda_A}\\right)$$\n",
        "$$t = \\frac{1}{(\\lambda_B -\\lambda_A)}ln\\left(\\frac{\\lambda_B}{\\lambda_A}\\right)$$"
      ],
      "metadata": {
        "id": "ttlqXnGvnDSF"
      }
    },
    {
      "cell_type": "markdown",
      "source": [
        "# \\#5 (4pt) - (Lecture 8, slide 13)\n",
        "Using the following formula, compute the total binding energy (B) and the \n",
        "value of B/A for 7Be (Z=4), \n",
        "12C (Z=6),\n",
        "12N (Z=7), 56Fe (Z=26), and 208Pb (Z=82), \n",
        "and compare with the experimental values of B/A available at \n",
        "https://www-nds.iaea.org/amdc/ame2020/mass_1.mas20.txt\n",
        "(Note: this table gives B/A in keV)\n",
        "$$B (MeV) = 15.56A - 17.23A^{2/3}\n",
        "- 0.697 \\frac{Z^2}{A^{\\frac{1}{3}}}\n",
        "- 93.14 \\frac{(Z-N)^2}{4A} - 12 \\frac{\\delta}{A^{\\frac{1}{2}}}$$\n",
        " - $\\delta$= -1 for even-even nuclei\n",
        " - $\\delta$=0 for even-odd/odd-even nuclei, \n",
        " - $\\delta$=+1 for odd-odd nuclei)\n",
        "\n"
      ],
      "metadata": {
        "id": "YzpqYmdw_DKX"
      }
    },
    {
      "cell_type": "code",
      "source": [
        "\n",
        "\n",
        "class Atom:\n",
        "\n",
        "  @staticmethod\n",
        "  def SEMF(atom):\n",
        "    '''The semi-empirical mass formula (SEMF) for the given atom'''\n",
        "\n",
        "    delta = 0 # default, or odd-even or even-odd\n",
        "    if atom.Z % 2 == 0 and atom.N % 2 == 0: # even-even\n",
        "      delta = 1\n",
        "    elif atom.Z % 2 != 0 and atom.N % 2 != 0: # odd-odd\n",
        "      delta = -1\n",
        "    return 15.56*atom.A - 17.23 * atom.A**(2./3) - 0.697 * atom.Z**2 / atom.A**(1./3) - 93.14 * (atom.Z - atom.N)**2 / (4*atom.A) - 12 * delta / np.sqrt(atom.A)\n",
        "\n",
        "  def __init__(self, name, Z, N, BA_exp):\n",
        "    self.Element = name\n",
        "    self.Z = Z\n",
        "    self.N = N\n",
        "    self.A = Z + N\n",
        "    self.BA_exp = BA_exp / 1000. # converting to MeV\n",
        "    self.B = self.SEMF(self)\n",
        "    self.BA = self.B / self.A\n",
        "\n",
        "# Define the atoms, their names, Z, N, and B/A (experimental) values\n",
        "atoms = []\n",
        "atoms.append(Atom('Be', 4, 7-4, 5371.5487))\n",
        "atoms.append(Atom('C', 6, 12-6, 7680.1446))\n",
        "atoms.append(Atom('N', 7, 12-7, 6170.1100))\n",
        "atoms.append(Atom('Fe', 26, 56-26, 8790.3563))\n",
        "atoms.append(Atom('Pb', 82, 208-82, 7867.4530))\n",
        "\n",
        "# Dataframes have more flexibility & interface nicely with plotting\n",
        "columns= ['Element', 'Z', 'N', 'A', 'B', 'BA', 'BA_exp']\n",
        "df = pd.DataFrame(columns=columns)\n",
        "for a in atoms:\n",
        "  df = df.append(a.__dict__, ignore_index=True)\n",
        "\n",
        "plt.figure(figsize=(8,8))\n",
        "\n",
        "plt.plot(df['Element'], df['BA'], label='B/A (SEMF)')\n",
        "plt.plot(df['Element'], df['BA_exp'], label='B/A (experimental)')\n",
        "\n",
        "plt.ylabel('B/A')\n",
        "plt.xlabel('Elements')\n",
        "plt.legend()\n",
        "plt.show()"
      ],
      "metadata": {
        "colab": {
          "base_uri": "https://localhost:8080/",
          "height": 497
        },
        "id": "qGlRHU_46ozK",
        "outputId": "34136719-07c8-4dec-c715-02f551139017"
      },
      "execution_count": null,
      "outputs": [
        {
          "output_type": "display_data",
          "data": {
            "text/plain": [
              "<Figure size 576x576 with 1 Axes>"
            ],
            "image/png": "[encoded data removed]"
          },
          "metadata": {
            "needs_background": "light"
          }
        }
      ]
    },
    {
      "cell_type": "code",
      "source": [
        "atoms[0].__dict__\n",
        "df['Discrepancy'] = df['BA'] - df['BA_exp']\n",
        "df"
      ],
      "metadata": {
        "colab": {
          "base_uri": "https://localhost:8080/",
          "height": 206
        },
        "id": "-aZNU3qPJgAr",
        "outputId": "81e19b28-063b-4493-add4-8f576f772538"
      },
      "execution_count": null,
      "outputs": [
        {
          "output_type": "execute_result",
          "data": {
            "text/plain": [
              "  Element   Z    N    A            B        BA    BA_exp  Discrepancy\n",
              "0      Be   4    3    7    36.713937  5.244848  5.371549    -0.126701\n",
              "1       C   6    6   12    81.985209  6.832101  7.680145    -0.848044\n",
              "2       N   7    5   12    77.193990  6.432832  6.170110     0.262722\n",
              "3      Fe  26   30   56   487.749769  8.709817  8.790356    -0.080539\n",
              "4      Pb  82  126  208  1623.056904  7.803158  7.867453    -0.064295"
            ],
            "text/html": [
              "\n",
              "  <div id=\"df-8a63fd11-9101-48d9-9c57-20bd86c24609\">\n",
              "    <div class=\"colab-df-container\">\n",
              "      <div>\n",
              "<style scoped>\n",
              "    .dataframe tbody tr th:only-of-type {\n",
              "        vertical-align: middle;\n",
              "    }\n",
              "\n",
              "    .dataframe tbody tr th {\n",
              "        vertical-align: top;\n",
              "    }\n",
              "\n",
              "    .dataframe thead th {\n",
              "        text-align: right;\n",
              "    }\n",
              "</style>\n",
              "<table border=\"1\" class=\"dataframe\">\n",
              "  <thead>\n",
              "    <tr style=\"text-align: right;\">\n",
              "      <th></th>\n",
              "      <th>Element</th>\n",
              "      <th>Z</th>\n",
              "      <th>N</th>\n",
              "      <th>A</th>\n",
              "      <th>B</th>\n",
              "      <th>BA</th>\n",
              "      <th>BA_exp</th>\n",
              "      <th>Discrepancy</th>\n",
              "    </tr>\n",
              "  </thead>\n",
              "  <tbody>\n",
              "    <tr>\n",
              "      <th>0</th>\n",
              "      <td>Be</td>\n",
              "      <td>4</td>\n",
              "      <td>3</td>\n",
              "      <td>7</td>\n",
              "      <td>36.713937</td>\n",
              "      <td>5.244848</td>\n",
              "      <td>5.371549</td>\n",
              "      <td>-0.126701</td>\n",
              "    </tr>\n",
              "    <tr>\n",
              "      <th>1</th>\n",
              "      <td>C</td>\n",
              "      <td>6</td>\n",
              "      <td>6</td>\n",
              "      <td>12</td>\n",
              "      <td>81.985209</td>\n",
              "      <td>6.832101</td>\n",
              "      <td>7.680145</td>\n",
              "      <td>-0.848044</td>\n",
              "    </tr>\n",
              "    <tr>\n",
              "      <th>2</th>\n",
              "      <td>N</td>\n",
              "      <td>7</td>\n",
              "      <td>5</td>\n",
              "      <td>12</td>\n",
              "      <td>77.193990</td>\n",
              "      <td>6.432832</td>\n",
              "      <td>6.170110</td>\n",
              "      <td>0.262722</td>\n",
              "    </tr>\n",
              "    <tr>\n",
              "      <th>3</th>\n",
              "      <td>Fe</td>\n",
              "      <td>26</td>\n",
              "      <td>30</td>\n",
              "      <td>56</td>\n",
              "      <td>487.749769</td>\n",
              "      <td>8.709817</td>\n",
              "      <td>8.790356</td>\n",
              "      <td>-0.080539</td>\n",
              "    </tr>\n",
              "    <tr>\n",
              "      <th>4</th>\n",
              "      <td>Pb</td>\n",
              "      <td>82</td>\n",
              "      <td>126</td>\n",
              "      <td>208</td>\n",
              "      <td>1623.056904</td>\n",
              "      <td>7.803158</td>\n",
              "      <td>7.867453</td>\n",
              "      <td>-0.064295</td>\n",
              "    </tr>\n",
              "  </tbody>\n",
              "</table>\n",
              "</div>\n",
              "      <button class=\"colab-df-convert\" onclick=\"convertToInteractive('df-8a63fd11-9101-48d9-9c57-20bd86c24609')\"\n",
              "              title=\"Convert this dataframe to an interactive table.\"\n",
              "              style=\"display:none;\">\n",
              "        \n",
              "  <svg xmlns=\"http://www.w3.org/2000/svg\" height=\"24px\"viewBox=\"0 0 24 24\"\n",
              "       width=\"24px\">\n",
              "    <path d=\"M0 0h24v24H0V0z\" fill=\"none\"/>\n",
              "    <path d=\"M18.56 5.44l.94 2.06.94-2.06 2.06-.94-2.06-.94-.94-2.06-.94 2.06-2.06.94zm-11 1L8.5 8.5l.94-2.06 2.06-.94-2.06-.94L8.5 2.5l-.94 2.06-2.06.94zm10 10l.94 2.06.94-2.06 2.06-.94-2.06-.94-.94-2.06-.94 2.06-2.06.94z\"/><path d=\"M17.41 7.96l-1.37-1.37c-.4-.4-.92-.59-1.43-.59-.52 0-1.04.2-1.43.59L10.3 9.45l-7.72 7.72c-.78.78-.78 2.05 0 2.83L4 21.41c.39.39.9.59 1.41.59.51 0 1.02-.2 1.41-.59l7.78-7.78 2.81-2.81c.8-.78.8-2.07 0-2.86zM5.41 20L4 18.59l7.72-7.72 1.47 1.35L5.41 20z\"/>\n",
              "  </svg>\n",
              "      </button>\n",
              "      \n",
              "  <style>\n",
              "    .colab-df-container {\n",
              "      display:flex;\n",
              "      flex-wrap:wrap;\n",
              "      gap: 12px;\n",
              "    }\n",
              "\n",
              "    .colab-df-convert {\n",
              "      background-color: #E8F0FE;\n",
              "      border: none;\n",
              "      border-radius: 50%;\n",
              "      cursor: pointer;\n",
              "      display: none;\n",
              "      fill: #1967D2;\n",
              "      height: 32px;\n",
              "      padding: 0 0 0 0;\n",
              "      width: 32px;\n",
              "    }\n",
              "\n",
              "    .colab-df-convert:hover {\n",
              "      background-color: #E2EBFA;\n",
              "      box-shadow: 0px 1px 2px rgba(60, 64, 67, 0.3), 0px 1px 3px 1px rgba(60, 64, 67, 0.15);\n",
              "      fill: #174EA6;\n",
              "    }\n",
              "\n",
              "    [theme=dark] .colab-df-convert {\n",
              "      background-color: #3B4455;\n",
              "      fill: #D2E3FC;\n",
              "    }\n",
              "\n",
              "    [theme=dark] .colab-df-convert:hover {\n",
              "      background-color: #434B5C;\n",
              "      box-shadow: 0px 1px 3px 1px rgba(0, 0, 0, 0.15);\n",
              "      filter: drop-shadow(0px 1px 2px rgba(0, 0, 0, 0.3));\n",
              "      fill: #FFFFFF;\n",
              "    }\n",
              "  </style>\n",
              "\n",
              "      <script>\n",
              "        const buttonEl =\n",
              "          document.querySelector('#df-8a63fd11-9101-48d9-9c57-20bd86c24609 button.colab-df-convert');\n",
              "        buttonEl.style.display =\n",
              "          google.colab.kernel.accessAllowed ? 'block' : 'none';\n",
              "\n",
              "        async function convertToInteractive(key) {\n",
              "          const element = document.querySelector('#df-8a63fd11-9101-48d9-9c57-20bd86c24609');\n",
              "          const dataTable =\n",
              "            await google.colab.kernel.invokeFunction('convertToInteractive',\n",
              "                                                     [key], {});\n",
              "          if (!dataTable) return;\n",
              "\n",
              "          const docLinkHtml = 'Like what you see? Visit the ' +\n",
              "            '<a target=\"_blank\" href=https://colab.research.google.com/notebooks/data_table.ipynb>data table notebook</a>'\n",
              "            + ' to learn more about interactive tables.';\n",
              "          element.innerHTML = '';\n",
              "          dataTable['output_type'] = 'display_data';\n",
              "          await google.colab.output.renderOutput(dataTable, element);\n",
              "          const docLink = document.createElement('div');\n",
              "          docLink.innerHTML = docLinkHtml;\n",
              "          element.appendChild(docLink);\n",
              "        }\n",
              "      </script>\n",
              "    </div>\n",
              "  </div>\n",
              "  "
            ]
          },
          "metadata": {},
          "execution_count": 10
        }
      ]
    },
    {
      "cell_type": "markdown",
      "source": [
        "Carbon has the largest gap by far, over 1 MeV difference from the SEMF and the experimental data."
      ],
      "metadata": {
        "id": "ClikHSrYIbAI"
      }
    },
    {
      "cell_type": "markdown",
      "source": [
        " ---\n",
        " ---\n",
        "\n",
        "# \\#6 (4pt+1pt for PHY802, optional/bonus for PHY492)\n",
        "Calculate the difference between the binding energy of a nucleus of $^{12}C$ and \n",
        "the sum of the binding energies of three $^4He$ nuclei (alpha particle), based \n",
        "on the atomic mass (or mass excess) information. The atomic mass \n",
        "information is available, for example, at the following site;\n",
        "https://www-nds.iaea.org/amdc/ame2020/mass_1.mas20.txt\n",
        "If any $^{12}C$ state has similar binding energies to those of three alphas, that \n",
        "state could decay into three alpha particles. In $^{12}C$, is there any candidate \n",
        "for such a state? Try to find candidates from NNDC/ENSDF web site; \n",
        "https://www.nndc.bnl.gov/ensdf/"
      ],
      "metadata": {
        "id": "yJ8QWSRfAF4w"
      }
    },
    {
      "cell_type": "code",
      "source": [],
      "metadata": {
        "colab": {
          "base_uri": "https://localhost:8080/",
          "height": 81
        },
        "id": "sYkOPR3bNzHe",
        "outputId": "b3fc455e-48b0-4343-c828-b0e09fea5d8e"
      },
      "execution_count": null,
      "outputs": [
        {
          "output_type": "execute_result",
          "data": {
            "text/plain": [
              "  Element  Z  N   A          B        BA    BA_exp  Discrepancy\n",
              "1       C  6  6  12  81.985209  6.832101  7.680145    -0.848044"
            ],
            "text/html": [
              "\n",
              "  <div id=\"df-81d4daf4-f0f0-44a5-8093-06bcc3798933\">\n",
              "    <div class=\"colab-df-container\">\n",
              "      <div>\n",
              "<style scoped>\n",
              "    .dataframe tbody tr th:only-of-type {\n",
              "        vertical-align: middle;\n",
              "    }\n",
              "\n",
              "    .dataframe tbody tr th {\n",
              "        vertical-align: top;\n",
              "    }\n",
              "\n",
              "    .dataframe thead th {\n",
              "        text-align: right;\n",
              "    }\n",
              "</style>\n",
              "<table border=\"1\" class=\"dataframe\">\n",
              "  <thead>\n",
              "    <tr style=\"text-align: right;\">\n",
              "      <th></th>\n",
              "      <th>Element</th>\n",
              "      <th>Z</th>\n",
              "      <th>N</th>\n",
              "      <th>A</th>\n",
              "      <th>B</th>\n",
              "      <th>BA</th>\n",
              "      <th>BA_exp</th>\n",
              "      <th>Discrepancy</th>\n",
              "    </tr>\n",
              "  </thead>\n",
              "  <tbody>\n",
              "    <tr>\n",
              "      <th>1</th>\n",
              "      <td>C</td>\n",
              "      <td>6</td>\n",
              "      <td>6</td>\n",
              "      <td>12</td>\n",
              "      <td>81.985209</td>\n",
              "      <td>6.832101</td>\n",
              "      <td>7.680145</td>\n",
              "      <td>-0.848044</td>\n",
              "    </tr>\n",
              "  </tbody>\n",
              "</table>\n",
              "</div>\n",
              "      <button class=\"colab-df-convert\" onclick=\"convertToInteractive('df-81d4daf4-f0f0-44a5-8093-06bcc3798933')\"\n",
              "              title=\"Convert this dataframe to an interactive table.\"\n",
              "              style=\"display:none;\">\n",
              "        \n",
              "  <svg xmlns=\"http://www.w3.org/2000/svg\" height=\"24px\"viewBox=\"0 0 24 24\"\n",
              "       width=\"24px\">\n",
              "    <path d=\"M0 0h24v24H0V0z\" fill=\"none\"/>\n",
              "    <path d=\"M18.56 5.44l.94 2.06.94-2.06 2.06-.94-2.06-.94-.94-2.06-.94 2.06-2.06.94zm-11 1L8.5 8.5l.94-2.06 2.06-.94-2.06-.94L8.5 2.5l-.94 2.06-2.06.94zm10 10l.94 2.06.94-2.06 2.06-.94-2.06-.94-.94-2.06-.94 2.06-2.06.94z\"/><path d=\"M17.41 7.96l-1.37-1.37c-.4-.4-.92-.59-1.43-.59-.52 0-1.04.2-1.43.59L10.3 9.45l-7.72 7.72c-.78.78-.78 2.05 0 2.83L4 21.41c.39.39.9.59 1.41.59.51 0 1.02-.2 1.41-.59l7.78-7.78 2.81-2.81c.8-.78.8-2.07 0-2.86zM5.41 20L4 18.59l7.72-7.72 1.47 1.35L5.41 20z\"/>\n",
              "  </svg>\n",
              "      </button>\n",
              "      \n",
              "  <style>\n",
              "    .colab-df-container {\n",
              "      display:flex;\n",
              "      flex-wrap:wrap;\n",
              "      gap: 12px;\n",
              "    }\n",
              "\n",
              "    .colab-df-convert {\n",
              "      background-color: #E8F0FE;\n",
              "      border: none;\n",
              "      border-radius: 50%;\n",
              "      cursor: pointer;\n",
              "      display: none;\n",
              "      fill: #1967D2;\n",
              "      height: 32px;\n",
              "      padding: 0 0 0 0;\n",
              "      width: 32px;\n",
              "    }\n",
              "\n",
              "    .colab-df-convert:hover {\n",
              "      background-color: #E2EBFA;\n",
              "      box-shadow: 0px 1px 2px rgba(60, 64, 67, 0.3), 0px 1px 3px 1px rgba(60, 64, 67, 0.15);\n",
              "      fill: #174EA6;\n",
              "    }\n",
              "\n",
              "    [theme=dark] .colab-df-convert {\n",
              "      background-color: #3B4455;\n",
              "      fill: #D2E3FC;\n",
              "    }\n",
              "\n",
              "    [theme=dark] .colab-df-convert:hover {\n",
              "      background-color: #434B5C;\n",
              "      box-shadow: 0px 1px 3px 1px rgba(0, 0, 0, 0.15);\n",
              "      filter: drop-shadow(0px 1px 2px rgba(0, 0, 0, 0.3));\n",
              "      fill: #FFFFFF;\n",
              "    }\n",
              "  </style>\n",
              "\n",
              "      <script>\n",
              "        const buttonEl =\n",
              "          document.querySelector('#df-81d4daf4-f0f0-44a5-8093-06bcc3798933 button.colab-df-convert');\n",
              "        buttonEl.style.display =\n",
              "          google.colab.kernel.accessAllowed ? 'block' : 'none';\n",
              "\n",
              "        async function convertToInteractive(key) {\n",
              "          const element = document.querySelector('#df-81d4daf4-f0f0-44a5-8093-06bcc3798933');\n",
              "          const dataTable =\n",
              "            await google.colab.kernel.invokeFunction('convertToInteractive',\n",
              "                                                     [key], {});\n",
              "          if (!dataTable) return;\n",
              "\n",
              "          const docLinkHtml = 'Like what you see? Visit the ' +\n",
              "            '<a target=\"_blank\" href=https://colab.research.google.com/notebooks/data_table.ipynb>data table notebook</a>'\n",
              "            + ' to learn more about interactive tables.';\n",
              "          element.innerHTML = '';\n",
              "          dataTable['output_type'] = 'display_data';\n",
              "          await google.colab.output.renderOutput(dataTable, element);\n",
              "          const docLink = document.createElement('div');\n",
              "          docLink.innerHTML = docLinkHtml;\n",
              "          element.appendChild(docLink);\n",
              "        }\n",
              "      </script>\n",
              "    </div>\n",
              "  </div>\n",
              "  "
            ]
          },
          "metadata": {},
          "execution_count": 12
        }
      ]
    },
    {
      "cell_type": "markdown",
      "source": [
        "I loaded the data from the website, and did some analysis outside of the python notebook here.  So I'm including a screenshot that shows some graphs & numbers.  There were a number of isotopes around atomic mass 12 that were very close to the sum of three helium nuclei.\n",
        "\n",
        "And as far as mass excess goes I'm not sure if I should be reading for when those values are close to the sum of the binding energies of the helium, or if there's just carbon that has enough mass excess that they could form the helium in a reaction.\n",
        "\n",
        "It does look like this is a reaction that can happen, and is related to stars fusing elements together with a chance for this carbon to decay into three alpha particles.\n",
        "\n",
        "1. [One article on it](https://www.energy.gov/science/np/articles/nuclear-cauldrons-studying-star-burning-radioactive-and-neutron-beams)\n",
        "1. [Wikipedia article](https://en.wikipedia.org/wiki/Triple-alpha_process)"
      ],
      "metadata": {
        "id": "vg4KsOFs5IMx"
      }
    },
    {
      "cell_type": "code",
      "source": [],
      "metadata": {
        "id": "CXj1ROg36dw9"
      },
      "execution_count": null,
      "outputs": []
    }
  ]
}