{
  "cells": [
    {
      "cell_type": "markdown",
      "metadata": {
        "id": "view-in-github",
        "colab_type": "text"
      },
      "source": [
        "<a href=\"https://colab.research.google.com/github/john-hafner/MSU-PHY/blob/main/HafnerJo_PHY493_HW2.ipynb\" target=\"_parent\"><img src=\"https://colab.research.google.com/assets/colab-badge.svg\" alt=\"Open In Colab\"/></a>"
      ]
    },
    {
      "cell_type": "markdown",
      "metadata": {
        "id": "MGjALJL0AAIv"
      },
      "source": [
        "# PHY 492 HW 2\n",
        "## John Hafner"
      ]
    },
    {
      "cell_type": "markdown",
      "metadata": {
        "id": "i-AnkeiDoAV_"
      },
      "source": [
        "An initial apology, I worked on this over a long time and bounced back & forth all over the place.  Near the middle & end I started setting $c=1$ out of frustration, I can see why physicists that have to deal with this on a daily basis use natural units to avoid juggling c and h."
      ]
    },
    {
      "cell_type": "code",
      "execution_count": null,
      "metadata": {
        "id": "3LBCwvIsy5Ot"
      },
      "outputs": [],
      "source": [
        "import numpy as np\n",
        "import sympy as sym\n",
        "\n",
        "import matplotlib.pyplot as plt"
      ]
    },
    {
      "cell_type": "markdown",
      "metadata": {
        "id": "hCqnqOje1zxE"
      },
      "source": [
        "# \\#1 (5+5+10+10 pts)\n",
        "Consider the particle described by the 4-vector: $p_\\mu = (200, 30, 100, 150)$\n",
        "GeV in the lab frame."
      ]
    },
    {
      "cell_type": "markdown",
      "metadata": {
        "id": "TxLyr49o9zPS"
      },
      "source": [
        "- (a) What is the mass of this particle?  Which elementary particle is it?"
      ]
    },
    {
      "cell_type": "markdown",
      "metadata": {
        "id": "hGvG9Rst6l8b"
      },
      "source": [
        "Using the invariant relation:\n",
        "\n",
        "$$E^2 - \\vec{p}^2 = m^2c^4$$\n",
        "\n",
        "We can solve for $m$:\n",
        "\n",
        "$$m = c^2\\sqrt{E^2 - p^2}$$\n",
        "\n",
        "We have $E = 200$ GeV\n",
        "\n",
        "and $\\vec{p} = (30, 100, 150)$\n",
        "\n",
        "So $\\vec{p}^2 = 30^2 + 100^2 + 150^2 =$ (see below)"
      ]
    },
    {
      "cell_type": "code",
      "execution_count": null,
      "metadata": {
        "colab": {
          "base_uri": "https://localhost:8080/"
        },
        "id": "h1tCBRGNy9tZ",
        "outputId": "d801da9e-0427-434e-a69e-48f3ba5c18fe"
      },
      "outputs": [
        {
          "name": "stdout",
          "output_type": "stream",
          "text": [
            "mass = 81.24 GeV/c^2\n"
          ]
        }
      ],
      "source": [
        "c = 3e8\n",
        "p4_w = np.array([[200, 30, 100, 150]]).T # declaring a 4-vector\n",
        "m = float(np.sqrt(p4_w[0]**2 - float(p4_w[1:].T@p4_w[1:])))\n",
        "print('mass = %.2f GeV/c^2' % (m))"
      ]
    },
    {
      "cell_type": "markdown",
      "metadata": {
        "id": "8BDtQvF12WKb"
      },
      "source": [
        "This best fits the W bosons that have a mass of 80.4 $\\frac{GeV}{c^2}$.  It must be a $W^-$ boson as (c) says it decays into an electron and neutrino, so to preserve charge this one should be negative.  But other than that the charge doesn't seem relevent to the problem, as the $W^+$ is the same mass."
      ]
    },
    {
      "cell_type": "markdown",
      "metadata": {
        "id": "hNk72mfG2Z3v"
      },
      "source": [
        "----\n",
        "---\n",
        "\n",
        "- (b) What is the $\\beta$ and $\\gamma$.\n",
        "\n",
        "I can use this relation:<br>\n",
        "$$E = \\gamma mc^2$$\n",
        "$$\\gamma = \\frac{E}{mc^2}$$\n",
        "\n",
        "And for $\\beta$ the definition of $\\gamma$ can be used:<br>\n",
        "$$\\gamma = \\frac{1}{1 - \\beta^2}$$<br>\n",
        "$$1 - \\beta^2 = \\frac{1}{\\gamma}$$<br>\n",
        "$$\\beta^2 = 1 - \\frac{1}{\\gamma}$$<br>\n",
        "$$\\beta = \\sqrt{1 - \\frac{1}{\\gamma}}$$"
      ]
    },
    {
      "cell_type": "code",
      "execution_count": null,
      "metadata": {
        "colab": {
          "base_uri": "https://localhost:8080/"
        },
        "id": "SBrXcE0f3Kwm",
        "outputId": "d31d9301-7013-4ceb-c68d-3d780cb4f59d"
      },
      "outputs": [
        {
          "name": "stdout",
          "output_type": "stream",
          "text": [
            "gamma: 2.462\n",
            "beta: 0.914 \n"
          ]
        }
      ],
      "source": [
        "E = float(p4_w[0])\n",
        "gamma = E/m \n",
        "print('gamma: %.3f' % (gamma))\n",
        "\n",
        "beta = np.sqrt(1 - 1 / gamma**2)\n",
        "print('beta: %.3f ' % (beta))"
      ]
    },
    {
      "cell_type": "markdown",
      "metadata": {
        "id": "XlZYv7G54ylV"
      },
      "source": [
        "---\n",
        "---\n",
        "\n",
        "- (c) Now boost the particle into its own rest frame. The particle decays \n",
        "into an electron and a neutrino. Assume the neutrino travels in the z \n",
        "direction in this rest frame. Write down the energy/momentum 4-\n",
        "vectors for the particle and for the electron and the neutrino (in \n",
        "GeV)."
      ]
    },
    {
      "cell_type": "markdown",
      "metadata": {
        "id": "jBSeSVz785pG"
      },
      "source": [
        "In its rest frame, there is no velocity (*hence no momentum*), just rest energy.\n",
        "\n",
        "So we'll get a new energy momentum 4-vector, with $\\vec{p} = \\vec{0}$.\n",
        "\n",
        "$p^{\\mu'} = (\\frac{E^{'}}{c}, \\vec{0})$\n",
        "\n",
        "But I think I can assume natural units, so $c = 1$\n",
        "\n",
        "The **length** of the 4-vector is invariant, so the new $p^{u'}p_{\\mu '}$ is the same length as $p^\\mu p_{\\mu '}$:\n",
        "\n",
        "$$E^2 - \\vec{p}^2 = m^2$$\n",
        "$$200^2 - (30^2 + 100^2 + 150^) = 81.24^2$$\n",
        "Or the rest energy / invariant mass is 81.24 $\\frac{GeV}{c^2}$\n",
        "\n",
        "So $p^{\\mu '} = (81.24 \\frac{GeV}{c}, \\vec{0})$, which does have the same length and the same invariance as $p^{\\mu '}p_{\\mu '} = 81.24$ in the new rest frame."
      ]
    },
    {
      "cell_type": "markdown",
      "metadata": {
        "id": "sAgWUf3u_Ebr"
      },
      "source": [
        "\n",
        "Or $p^{\\mu '} = \\begin{bmatrix} 81.24 \\frac{GeV}{c} \\\\ 0 \\\\ 0 \\\\ 0\\end{bmatrix}$, in the rest frame\n",
        "\n",
        "\n",
        "When it decays into an electron and neutrino, momentum is conserved, so it's $\\vec{0}$ in total for them.  The two particles will have equal and opposite momentum, canceling out.\n",
        "\n",
        "Example 3.3 on page 103 walks through a similar problem, a few ways so I'll use the 4-vector method which seems a bit simpler. We know before and after the collision that energy and momentum are conserved:\n",
        "\n",
        "$$p_w = p_e + p_\\nu$$\n",
        "\n",
        "We can arrange for $p_e$ and after for $p_\\nu$:\n",
        "\n",
        "$$p_\\nu = p_w - p_e$$\n",
        "\n",
        "Taking the scalar product of these:\n",
        "\n",
        "$$p_\\nu^2 = (p_W + p_e)^2$$\n",
        "$$m_\\nu^2 c^2 = p_w^2 + p_e^2 - 2 p_w p_e$$\n",
        "\n",
        "In general we get $p^\\mu p_\\mu$ is the invariant mass:\n",
        "\n",
        "- $p_\\nu^2 = m_\\nu^2 c^2 = 0$, due to the tiny mass of the neutrino, roughly $10^{-6} \\frac{MeV}{c^2}$\n",
        "- $p_e^2 = m_e^2 c^2$, this seems like it could also be 0 as it's only $0.511 \\frac{MeV}{c^2}$ so about $\\frac{1}{4000}$ of a GeV, vs $81.2 \\frac{GeV}{c^2}$ for the $W^-$.  But I seem to need it.\n",
        "- $p_w^2 = m_w^2 c^2$\n",
        "- $p_w p_e = \\frac{E_w}{c}\\frac{E_e}{c} = m_w E_e$\n",
        "\n",
        "$$0 = m_w^2c^2 + m_e^2c^2 - 2 m_w E_e$$\n",
        "$$E_e = \\frac{m_w^2c^2 + m_e^2c^2}{2m_wc}$$\n",
        "\n",
        "Now that we have the energy for the electron, I need its momentum.\n",
        "\n",
        "$$p_e = p_w - p_\\nu$$\n",
        "$$(p_e)^2 = (p_w - p_\\nu)^2$$\n",
        "$$p_e^2 = p_w^2 + p_\\nu^2 - 2p_w p_\\nu$$\n",
        "\n",
        "We can plug & chug the same values from above:\n",
        "\n",
        "$$m_e^2 = m_w^2 + 0 - 2 m_w E_\\nu$$\n",
        "\n",
        "And in this case, $E_\\nu$ is just $|p_\\nu|c$, or $|p_\\nu$ as I'm just going to start setting $c=1$ as I work on this part again.  But since momentum is equal and opposite for the electron and neutrino $|p_nu| = |p_e|$.\n",
        "\n",
        "$$m_e^2 = m^2_w - 2m_w(|p_e|)$$\n",
        "$$|p_e| = \\frac{m^2_w - m^2_e}{2 m_w}$$\n",
        "And to reiterate: $|p_e| = |p_\\nu|$, the direction is entirely arbitrary, whichever axis I choose I simply have to be consistent and give the same value but opposite sign to the other particle."
      ]
    },
    {
      "cell_type": "code",
      "execution_count": null,
      "metadata": {
        "colab": {
          "base_uri": "https://localhost:8080/"
        },
        "id": "MW55G3N251zG",
        "outputId": "5f58d79f-00b0-4496-e2cc-e34c325ec62a"
      },
      "outputs": [
        {
          "name": "stdout",
          "output_type": "stream",
          "text": [
            "E of electron: 40.620000001607096\n"
          ]
        }
      ],
      "source": [
        "m_e = 511 * 1e-6 # electron in GeV\n",
        "m_v = 2e-9 # electron anti-neutrino mass, in GeV\n",
        "m_v = 0.\n",
        "m_w = 81.24 # W boson, in GeV\n",
        "E_w = 81.24\n",
        "\n",
        "def compute_decay_energy(m_a, m_b):\n",
        "\n",
        "  E_b = (m_a**2 + m_b**2) / (2.0 * m_a)\n",
        "\n",
        "  return E_b\n",
        "\n",
        "  \n",
        "E_e = compute_decay_energy(m_w, m_e)\n",
        "print(f'E of electron: {E_e}')"
      ]
    },
    {
      "cell_type": "code",
      "execution_count": null,
      "metadata": {
        "id": "wcvT1pt6oAWH",
        "outputId": "e286c25e-15a0-4baf-a04e-77dfef205727"
      },
      "outputs": [
        {
          "name": "stdout",
          "output_type": "stream",
          "text": [
            "Momentum of electron: 40.62 GeV\n",
            "Invariant mass of electron: 0.000511 GeV/c^2\n"
          ]
        }
      ],
      "source": [
        "# Computing the momentum of the electron from above:\n",
        "p_e = 1/2. * (m_w**2 - m_e**2) / m_w\n",
        "print(f'Momentum of electron: {round(p_e,3)} GeV') \n",
        "\n",
        "np.sqrt(E_e**2 - m_e**2)\n",
        "\n",
        "print(f'Invariant mass of electron: {round(np.sqrt(E_e**2 - p_e**2), 6)} GeV/c^2')"
      ]
    },
    {
      "cell_type": "markdown",
      "metadata": {
        "id": "4Mcp7zAcoAWH"
      },
      "source": [
        "Getting a value for $E_e$ that matches almost exactly to $p_e$ made me a bit leery, but the invariant mass computed with $E_e^2 - \\vec{p}^2 = m_e^2$ made me feel better getting out the actual value for the electron.  So I couldn't throw away the electron mass like I could with the neutrino."
      ]
    },
    {
      "cell_type": "code",
      "execution_count": null,
      "metadata": {
        "id": "gvFLJZKXoAWI",
        "outputId": "c430695e-cf12-4cdc-ce96-bef7c6b65724"
      },
      "outputs": [
        {
          "name": "stdout",
          "output_type": "stream",
          "text": [
            "The energy/momentum vector for the electron, in the rest frame:\n"
          ]
        },
        {
          "data": {
            "text/plain": [
              "array([[ 40.62],\n",
              "       [  0.  ],\n",
              "       [  0.  ],\n",
              "       [-40.62]])"
            ]
          },
          "execution_count": 43,
          "metadata": {},
          "output_type": "execute_result"
        }
      ],
      "source": [
        "p4_e_rest = np.array([[E_e, 0, 0, -p_e]]).T\n",
        "print('The energy/momentum vector for the electron, in the rest frame:')\n",
        "p4_e_rest"
      ]
    },
    {
      "cell_type": "code",
      "execution_count": null,
      "metadata": {
        "id": "JFeW4sWnoAWI",
        "outputId": "1cada1b6-e410-4cdd-9eef-f14b5cfe2f3a"
      },
      "outputs": [
        {
          "data": {
            "text/plain": [
              "0.00051100037754117"
            ]
          },
          "execution_count": 42,
          "metadata": {},
          "output_type": "execute_result"
        }
      ],
      "source": [
        "# Verifying it still works out to 511 e-6 GeV, as the rounding clipped it to the same number.\n",
        "np.sqrt(float(p4_e_rest[0])**2 - float(p4_e_rest[3])**2)"
      ]
    },
    {
      "cell_type": "code",
      "execution_count": null,
      "metadata": {
        "colab": {
          "base_uri": "https://localhost:8080/"
        },
        "id": "0_fInu3MtyXP",
        "outputId": "4e9ccc20-0ad0-4c1e-ad59-c91e8b5857c0"
      },
      "outputs": [
        {
          "name": "stdout",
          "output_type": "stream",
          "text": [
            "Invariant mass of the neutrino: 0.0\n"
          ]
        }
      ],
      "source": [
        "E_v = E_w - E_e # Conservation of energy to get the neutrino's energy\n",
        "# declaring energy/momentum 4-vector for the neutrino\n",
        "# it uses the same momentum, but in the opposite direction of the electron\n",
        "p4_v_rest = np.array([[E_v, 0, 0, p_e]]).T\n",
        "\n",
        "p4_w_rest = np.array([[m_w, 0, 0, 0]]).T\n",
        "\n",
        "# Final sanity check - that the rest p4 vector for the W is the same as the\n",
        "# combination of the electron and neutrino, so conservation of energy and momentum\n",
        "# will hold:\n",
        "#p4_w_rest - (p4_e + p4_v)\n",
        "p4_v_rest = np.array([[E_v, 0, 0, p_e]]).T\n",
        "print(f'Invariant mass of the neutrino: {float(p4_v_rest[0])**2 - float(p4_v_rest[3])**2}')\n"
      ]
    },
    {
      "cell_type": "markdown",
      "metadata": {
        "id": "cIhO67YfoAWJ"
      },
      "source": [
        "It makes sense it's 0 as that was the assumption from the book, and my own calculations."
      ]
    },
    {
      "cell_type": "code",
      "execution_count": null,
      "metadata": {
        "id": "xttKZAZEoAWJ",
        "outputId": "92d06bda-313c-487f-e8ea-9023f00b1353"
      },
      "outputs": [
        {
          "name": "stdout",
          "output_type": "stream",
          "text": [
            "Neutrino energy/momentum 4-vector, in the rest frame:\n"
          ]
        },
        {
          "data": {
            "text/plain": [
              "array([[40.62],\n",
              "       [ 0.  ],\n",
              "       [ 0.  ],\n",
              "       [40.62]])"
            ]
          },
          "execution_count": 53,
          "metadata": {},
          "output_type": "execute_result"
        }
      ],
      "source": [
        "print('Neutrino energy/momentum 4-vector (in GeV), in the rest frame:')\n",
        "p4_v_rest"
      ]
    },
    {
      "cell_type": "code",
      "execution_count": null,
      "metadata": {
        "colab": {
          "base_uri": "https://localhost:8080/"
        },
        "id": "OK8PcZ8wxa_O",
        "outputId": "a1923c1f-5094-46b4-baa2-0209b37b7ff0"
      },
      "outputs": [
        {
          "name": "stdout",
          "output_type": "stream",
          "text": [
            "W energy/momentum 4-vector (in GeV):\n"
          ]
        },
        {
          "data": {
            "text/plain": [
              "array([[81.24],\n",
              "       [ 0.  ],\n",
              "       [ 0.  ],\n",
              "       [ 0.  ]])"
            ]
          },
          "execution_count": 11,
          "metadata": {},
          "output_type": "execute_result"
        }
      ],
      "source": [
        "print('W boson energy/momentum 4-vector (in GeV):')\n",
        "p4_w_rest"
      ]
    },
    {
      "cell_type": "code",
      "execution_count": null,
      "metadata": {
        "id": "ab_kTwo9oAWK",
        "outputId": "40524259-4f89-457a-d70a-943cc39875ca"
      },
      "outputs": [
        {
          "name": "stdout",
          "output_type": "stream",
          "text": [
            "Last sanity check, the e and neutrino energy/momentum vectors should totally cancel the W-boson's\n"
          ]
        },
        {
          "data": {
            "text/plain": [
              "array([[0.],\n",
              "       [0.],\n",
              "       [0.],\n",
              "       [0.]])"
            ]
          },
          "execution_count": 56,
          "metadata": {},
          "output_type": "execute_result"
        }
      ],
      "source": [
        "print('Last sanity check, the e and neutrino energy/momentum vectors should totally cancel the W-boson\\'s')\n",
        "p4_w_rest - (p4_v_rest + p4_e_rest)"
      ]
    },
    {
      "cell_type": "markdown",
      "metadata": {
        "id": "PMvL-sSKoAWK"
      },
      "source": [
        "And it does!"
      ]
    },
    {
      "cell_type": "markdown",
      "metadata": {
        "id": "iPRitidnxvr_"
      },
      "source": [
        "---\n",
        "\n",
        "## (d)\n",
        "- Now consider the lab frame again, and consider the decay of the\n",
        "particle into an electron and a neutrino. Assume the decay products\n",
        "could go in any direction. What is the maximum and the minimum\n",
        "magnitude of the 3-momentum that the electron can have?\n",
        "\n",
        "The minimum could be approximately 0, the electron comes out at rest with the neutrino siphoning off the kinetic energy, and so the momentum would all be carried with it.  and the maximum would be the full momentum is transferred to the electron instead, and the neutrino pops into existence at rest in the lab frame.  This is how the neutrino was theorized to exist by Pauli, when the data didn't show a sharp spike with the expected energy from $\\beta$-decay and instead there was a distribution of energies he figured there might be some other particle that was released, otherwise conservation of energy & possibly momentum & angular momentum would not hold anymore.\n",
        "\n",
        "So the magnitude would range from 0 to a maximum of the momentum that the $W^-$ had in the lab frame, as momentum is conserved:"
      ]
    },
    {
      "cell_type": "code",
      "execution_count": null,
      "metadata": {
        "colab": {
          "base_uri": "https://localhost:8080/"
        },
        "id": "uyYu48lH0do2",
        "outputId": "d73537ca-d02d-432d-b4ff-68d7f87e3652"
      },
      "outputs": [
        {
          "name": "stdout",
          "output_type": "stream",
          "text": [
            "Maximum momentum the electron could have: 182.76 GeV\n"
          ]
        }
      ],
      "source": [
        "# Computing the momentum of the W in the lab frame, that'll be the max momentum\n",
        "# that any of the new particles could have.\n",
        "p_max = float(np.sqrt(p4_w[1:].T @ p4_w[1:]))\n",
        "print(f'Maximum momentum the electron could have: {round(p_max,2)} GeV')"
      ]
    },
    {
      "cell_type": "markdown",
      "metadata": {
        "id": "k4i12jBmQQ8J"
      },
      "source": [
        "# \\#3\n",
        "- The $\\eta(549)$ meson has spin-0 and is observed to decay to a three-pion final\n",
        "states by the electromagnetic processes $\\eta \\rightarrow \\pi^0 + \\pi^0 + \\pi^0$ and $\\eta \\rightarrow \\pi^+ + \\pi^- + \\pi^0$. Use this information to deduce the parity of the $\\eta(549)$, and hence explain why the decays $\\eta \\rightarrow \\pi^0 + \\pi^0$ and\n",
        "$\\eta \\rightarrow \\pi^+ + \\pi^-$ have never been observed."
      ]
    },
    {
      "cell_type": "markdown",
      "metadata": {
        "id": "YV30e4UGQ3RD"
      },
      "source": [
        "The parity of all pions is (-1) per [wiki](https://en.wikipedia.org/wiki/Pion), and parity is conserved in EM interactions.  To check parity we can just multiply each side of the decay reaction by the parity values, and they have to match for parity to be conserved.  So if there's two particles we'll calculate: $(-1)(-1) = 1$, and the other side of the equation would have to have a $(+1)$ for parity to be conserved\n",
        "\n",
        "So on the right side of the allowed processes we have for parity:\n",
        "\n",
        "$$\\pi^0 + \\pi^0 + \\pi^0 \\rightarrow \\left[(-1)\\times(-1)\\times(-1)\\right] = (-1)$$\n",
        "\n",
        "And the other allowed process:\n",
        "\n",
        "$$\\pi^+ + \\pi^- + \\pi^0 \\rightarrow \\left[(-1)\\times(-1)\\times(-1)\\right] = (-1)$$\n",
        "\n",
        "That would imply a parity of (-1) for the $\\eta(549)$, and checking the never observed processes:\n",
        "\n",
        "$$\\pi^0 + \\pi^0 \\rightarrow \\left[(-1)\\times(-1)\\right] = (+1)$$\n",
        "\n",
        "$$\\pi^+ + \\pi^- \\rightarrow \\left[\\times(-1)\\times(-1)\\right] = (+1)$$\n",
        "\n",
        "Both of these outputs give a (+1) parity, and would violate the conservation of parity if $\\eta(549)$ had a parity of (-1), hence why they aren't observed.  \n",
        "\n",
        "Beyond that charge was conserved, baryon number is conserved as they all add up to 0 thanks to the anti-quarks, which also makes the quark flavors balance, I can't find any other law these would violate."
      ]
    },
    {
      "cell_type": "markdown",
      "metadata": {
        "id": "6tnR18vl2Zxv"
      },
      "source": [
        "## \\#4\n",
        "\n",
        "### (a)\n",
        "- Consider the collision of two particles, A and B, which interact and create\n",
        "n final state particles C1, C2….Cn. For this reaction to occur, there must\n",
        "be a minimum total energy available, which depends on the final state\n",
        "particles. This minimum (or threshold) energy corresponds to a final\n",
        "state of zero kinetic energy in the center-of-momentum frame.\n",
        "Assuming particle A has total energy E and particle B is at rest, find an\n",
        "expression for the threshold energy.\n",
        "\n",
        "Initially in the lab frame the total energy/momentum is:\n",
        "\n",
        "$p^\\mu = (\\frac{E_A}{c} + m_Bc, \\vec{p}_A)$\n",
        "\n",
        "This is technically the entire, or total energy/momentum 4-vector, not just for one particular object but there's enough subscripts & superscripts floating I don't want to add more to it.\n",
        "\n",
        "The energy of particle A, both rest and kinetic, combined with the rest energy of the target particle B.  And all of the momentum is from particle A, along the x-axis though it's abitrary and I'll switch to the CM frame soon enough, where total momentum will be zero, both before & after the collision.\n",
        "\n",
        "In the CM frame the $p^{\\mu '}$ is even easier:\n",
        "\n",
        "$p^{\\mu '} = ((m_1 + m_2 + m_3 + \\dots + m_n)c, \\vec{0})$\n",
        "\n",
        "Or we can just use $M$ for all the masses of these particles that pop out:\n",
        "\n",
        "$p^{\\mu '} = (Mc, \\vec{0})$\n",
        "\n",
        "So that makes this simple invariant scaler product simple:\n",
        "\n",
        "$$p^\\mu p_\\mu = (Invariant) = M^2c^2$$\n",
        "\n",
        "But that's post-collision in the CM frame.  Maybe some useful info can be pulled along from the lab pre-collision with the same invariant, then conservation of energy or momentum in the CM frame can solve for the threshold energy:\n",
        "\n",
        "$$p^\\mu p_\\mu = (\\frac{E_A}{c} + m_Bc)^2 - \\vec{p}^2_A$$\n",
        "$$(Invariant) = \\frac{E_A^2}{c^2} + m^2_Bc^2 + 2m_BE_A - \\vec{p}_A^2$$\n",
        "$$(Invariant) = (\\frac{E_A^2}{c^2} - \\vec{p}_A^2) + m^2_Bc^2 + 2m_BE_A$$\n",
        "Now that those terms are collected in the first group I can use:\n",
        "\n",
        "$$E^2_A - \\vec{p}^2c^2 = m_A^2c^4$$\n",
        "Or:\n",
        "$$\\left(\\frac{E^2_A}{c^2} - \\vec{p}^2\\right) = m_A^2c^2$$\n",
        "And:\n",
        "\n",
        "$$(Invariant) = (m_A^2c^2) + m^2_Bc^2 + 2m_BE_A$$\n",
        "$$(Invariant) = (m_A^2 + m^2_B)c^2 + 2m_BE_A$$\n",
        "Using the earlier invariant from the lab frame:\n",
        "$$M^2c^2 = (m_A^2 + m^2_B)c^2 + 2m_BE_A$$<br>\n",
        "$$2m_BE_A = M^2 - (m_A^2 + m^2_B)c^2$$<br>\n",
        "\n",
        "---\n",
        "\n",
        "$$E_A = \\frac{M^2 - (m_A^2 + m^2_B)}{2m_B}$$\n",
        "\n",
        "---\n",
        "\n",
        "Energy and momentum are conserved across the collisions, and the invariants can be moved between the lab & CM frame."
      ]
    },
    {
      "cell_type": "markdown",
      "metadata": {
        "id": "Xn2PKsYu2f41"
      },
      "source": [
        "### (b)\n",
        "- Use your answer from part (a) to find the threshold energies for the\n",
        "following reactions. In each case, the proton is the at-rest target\n",
        "particle:\n",
        "\n",
        "  - $\\pi^- + p \\rightarrow K^0 + \\Sigma^0$\n",
        "  - $p + p \\rightarrow p + p + \\pi^0$\n",
        "  - $\\pi^- + p \\rightarrow p + \\bar{p} + n$"
      ]
    },
    {
      "cell_type": "markdown",
      "metadata": {
        "id": "6O1w6KCx-bdX"
      },
      "source": [
        "These should just take the masses as input, and that'll give the energy required:"
      ]
    },
    {
      "cell_type": "code",
      "execution_count": null,
      "metadata": {
        "colab": {
          "base_uri": "https://localhost:8080/"
        },
        "id": "KkdX0aof-aRm",
        "outputId": "ea880442-d2be-4eda-f5c1-c2cdc0d214d6"
      },
      "outputs": [
        {
          "name": "stdout",
          "output_type": "stream",
          "text": [
            "Threshold energy for first reaction: 1042.78 MeV\n",
            "Threshold energy for second reaction: 1218.012 MeV\n",
            "Threshold energy for third reaction: 3746.716 MeV\n"
          ]
        }
      ],
      "source": [
        "# all masses in MeV/c^2\n",
        "m_proton = 938.3\n",
        "m_pion = 139.6\n",
        "m_kaon = 497.7\n",
        "m_sigma = 1192.5\n",
        "m_neutron = 939.6\n",
        "m_pion_0 = 135\n",
        "\n",
        "\n",
        "def calc_threshold_energy(incoming, created):\n",
        "  M = sum(created)\n",
        "  E_A = (M**2 - (incoming[0]**2 + incoming[1]**2)) / (2 * incoming[1])\n",
        "  return round(E_A, 3)\n",
        "\n",
        "\n",
        "exp_in = [m_pion, m_proton]\n",
        "exp_out = [m_kaon, m_sigma]\n",
        "\n",
        "E_1 = calc_threshold_energy(exp_in, exp_out)\n",
        "print(f'Threshold energy for first reaction: {E_1} MeV')\n",
        "\n",
        "exp_in = [m_proton, m_proton]\n",
        "exp_out = [m_proton, m_proton, m_pion_0]\n",
        "E_2 = calc_threshold_energy(exp_in, exp_out)\n",
        "print(f'Threshold energy for second reaction: {E_2} MeV')\n",
        "\n",
        "exp_in = [m_pion, m_proton]\n",
        "exp_out = [m_proton, m_proton, m_neutron]\n",
        "E_3 = calc_threshold_energy(exp_in, exp_out)\n",
        "print(f'Threshold energy for third reaction: {E_3} MeV')"
      ]
    },
    {
      "cell_type": "markdown",
      "metadata": {
        "id": "qMoLKQ4GAd0W"
      },
      "source": [
        "---\n",
        "---\n",
        "\n",
        "## \\#4\n",
        "\n",
        "Following the discussion of the triangle symmetry group in Griffiths (Ch 4.1,\n",
        "pp 117-118), work out the symmetry group of the square.\n",
        "\n",
        "- (a) How many elements does it have? [Hint: Draw a diagram of the axes of\n",
        "symmetry. Each symmetry group element for the square must\n",
        "symmetrically preserve the orientation of the original square.]\n",
        "\n",
        "There are 8 elements:\n",
        "1. $I$, The identity mapping\n",
        "1. $R$, $90^o$ rotation, counter-clockwise (CCW)\n",
        "1. $R2$, $180^o$ rotation, counter-clockwise (CCW)\n",
        "1. $R3$, $270^o$ rotation, counter-clockwise (CCW)\n",
        "1. $T_x$, Reflection across the x-axis\n",
        "1. $T_y$, Reflection across the y-axis\n",
        "1. $T_{AC}$, Reflection across the diagonals, labeled AC\n",
        "1. $T_{BD}$, Reflection across the other diagonal, labeled BD"
      ]
    },
    {
      "cell_type": "markdown",
      "metadata": {
        "id": "Sn2GRpgOBuxg"
      },
      "source": [
        "- (b) Determine if the square symmetry group is Abelian or non-Abelian.\n",
        "\n",
        "Proofs are a little above my pay grade, but maybe a counter example should do:\n",
        "\n",
        "If we do $T_xR3 \\rightarrow T_{BD}$<br>\n",
        "But the inverse $R3T_x \\rightarrow T_{AC}$:\n",
        "\n",
        "So not all group operations are commutative, and the square symmetry group is not abelian.\n"
      ]
    },
    {
      "cell_type": "markdown",
      "metadata": {
        "id": "IS2eXja0Lsza"
      },
      "source": [
        "### The symmetries:\n",
        "I couldn't figure a way to show it in here that was anywhere near as quick as drawing it out.\n",
        "\n",
        "On the top are the four reflection, along the x and y axes, and the diagonals.\n",
        "Below are the three rotations, and lastly is the identity which is no rotation."
      ]
    },
    {
      "cell_type": "markdown",
      "metadata": {
        "id": "Q9xDI_luK_Ld"
      },
      "source": [
        "<img src=\"square_symmetry.jpg\">"
      ]
    },
    {
      "cell_type": "markdown",
      "metadata": {
        "id": "QMJW-TbsoAWP"
      },
      "source": [
        "## The elements\n",
        "The Cayley table showing all of the operations"
      ]
    },
    {
      "cell_type": "markdown",
      "metadata": {
        "id": "jdgEikNToAWQ"
      },
      "source": [
        "<img src=\"caley.jpg\">"
      ]
    }
  ],
  "metadata": {
    "colab": {
      "provenance": [],
      "include_colab_link": true
    },
    "kernelspec": {
      "display_name": "Python 3 (ipykernel)",
      "language": "python",
      "name": "python3"
    },
    "language_info": {
      "codemirror_mode": {
        "name": "ipython",
        "version": 3
      },
      "file_extension": ".py",
      "mimetype": "text/x-python",
      "name": "python",
      "nbconvert_exporter": "python",
      "pygments_lexer": "ipython3",
      "version": "3.10.4"
    }
  },
  "nbformat": 4,
  "nbformat_minor": 0
}